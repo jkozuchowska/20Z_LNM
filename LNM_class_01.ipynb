{
 "cells": [
  {
   "cell_type": "markdown",
   "metadata": {},
   "source": [
    "\n",
    "\n",
    "# Programming Language With Numerical Methods\n",
    "<heads>\n",
    "Joanna Kozuchowska, Msc\n",
    "\n",
    "Whenever you learn a new feature, you should try it out in interactive mode and make errors on purpose to see what goes wrong and what types of errors you run into.\n"
   ]
  },
  {
   "cell_type": "markdown",
   "metadata": {},
   "source": [
    "**Exercise 1** \n",
    "\n",
    "Practice using the Python interpreter as a calculator:\n",
    "- We’ve seen that n = 42 is legal. What about 42 = n? How about x = y = 1?\n",
    "- In some languages every statement ends with a semi-colon, ;. What happens if you put a semi-colon at the end of a Python statement? What if you put a period at the end of a statement?\n",
    "- In math notation you can multiply x and y like this: x y. What happens if you try that in Python?\n",
    "- How many seconds are there in 52 minutes 52 seconds?\n",
    "- How many miles are there in 10 kilometres? Hint: there are 1.61 kilometers in a mile. If you run a 10 kilometre race in 52 minutes 52 seconds, what is your average pace (time per mile in minutes and seconds)? What is your average speed in miles per hour?\n",
    "- Suppose the cover price of a book is 24.95 euros, but bookstores get a 50% discount. Shipping costs 3 euros for the first copy and 75 cents for each additional copy. What is the total wholesale cost for 50 copies? \n",
    "- The volume of a sphere with radius $r$ is $\\frac{4}{3}πr^3$ . What is the volume of a sphere with radius 5?\n",
    "- If I leave my house at 6:50 am and run 1 mile at an easy pace (8:15 per mile), then 3 miles at tempo (7:12 per mile) and 1 mile at easy pace again, what time do I get home for breakfast?\\\n",
    "- Can a newborn baby expect to live for one billion (10^9) seconds?"
   ]
  },
  {
   "cell_type": "code",
   "execution_count": null,
   "metadata": {},
   "outputs": [],
   "source": []
  },
  {
   "cell_type": "markdown",
   "metadata": {},
   "source": [
    "**Exercise 2** \n",
    "- In a print statement, what happens if you leave out one of the parentheses, or both?\n",
    "- You can use a minus sign to make a negative number like -2. What happens if you put a plus sign before a number? What about 2++2?\n",
    "- In math notation, leading zeros are ok, as in 09. What happens if you try this in Python? What about 011?\n",
    "- What happens if you have two values with no operator between them?\n"
   ]
  },
  {
   "cell_type": "code",
   "execution_count": null,
   "metadata": {},
   "outputs": [],
   "source": []
  },
  {
   "cell_type": "markdown",
   "metadata": {},
   "source": [
    "**Exercise 3**\n",
    "\n",
    "Try the commands below in an interactive mode. Explain why some of them fail and correct the errors:\n",
    "- a=2\n",
    "- a1 = b\n",
    "- x=2\n",
    "- y = X + 4 # is it 6?\n",
    "- from Math import tan\n",
    "- print tan(pi)\n",
    "- pi = ”3.14159’\n",
    "- print tan(pi)\n",
    "- c = 4\\*\\*3\\*\\*2\\*\\*3\n",
    "- = ((c-78564)/c + 32))\n",
    "- discount = 12%\n",
    "- AMOUNT = 120.-\n",
    "- amount = 120 \\$\n",
    "- address = abc@gmail\n",
    "- and = duck\n",
    "- class = 'INF1100, gr 2\"\n",
    "- continue = x ¿ 0\n",
    "- brtype = \"\"jordb \"\"\"\n",
    "- rev = fox = True\n",
    "- Norwegian = ['a human language']\n",
    "- true = fox is rev in Norwegian\n"
   ]
  },
  {
   "cell_type": "code",
   "execution_count": null,
   "metadata": {},
   "outputs": [],
   "source": []
  },
  {
   "cell_type": "markdown",
   "metadata": {},
   "source": [
    "**Exercise 4**\n",
    "\n",
    "Write a program converting the temperature given in Fahrenheit degrees to Celsius. A formula between those units: $C = \\frac{5}{9} (F − 32)$."
   ]
  },
  {
   "cell_type": "code",
   "execution_count": null,
   "metadata": {},
   "outputs": [],
   "source": []
  },
  {
   "cell_type": "markdown",
   "metadata": {},
   "source": [
    "**Exercise 5**\n",
    "\n",
    "Let $p$ be a bank’s interest rate in percent per year. An initial amount $A$ has then grown to\n",
    "$$ (1+ \\frac{p}{100})^{n}$$ \n",
    "after $n$ years. Make a program for computing how much money 1000 euros have grown to after three years with 5% interest rate."
   ]
  },
  {
   "cell_type": "code",
   "execution_count": null,
   "metadata": {},
   "outputs": [],
   "source": []
  },
  {
   "cell_type": "markdown",
   "metadata": {},
   "source": [
    "**Exercise 6**\n",
    "\n",
    "Use user input to add to variables. Try casting the user input to different numeric types. Observe what are the rules for input."
   ]
  },
  {
   "cell_type": "code",
   "execution_count": null,
   "metadata": {},
   "outputs": [],
   "source": []
  },
  {
   "cell_type": "markdown",
   "metadata": {},
   "source": [
    "**Exercise 7**\n",
    "\n",
    "Which of the following will return the floating point number 2.0? Note: there may be more than one right answer.\n",
    "\n",
    "first = 1.0\n",
    "second = \"1\"\n",
    "third = \"1.1\"\n",
    "first + float(second)\n",
    "float(second) + float(third)\n",
    "first + int(third)\n",
    "first + int(float(third))\n",
    "int(first) + int(float(third))\n",
    "2.0 * second"
   ]
  },
  {
   "cell_type": "markdown",
   "metadata": {},
   "source": [
    "**Exercise 8**\n",
    "\n",
    "What is displayed when a Python cell in a notebook that contains several calculations is executed?"
   ]
  },
  {
   "cell_type": "code",
   "execution_count": null,
   "metadata": {},
   "outputs": [],
   "source": []
  }
 ],
 "metadata": {
  "kernelspec": {
   "display_name": "Python 3",
   "language": "python",
   "name": "python3"
  },
  "language_info": {
   "codemirror_mode": {
    "name": "ipython",
    "version": 3
   },
   "file_extension": ".py",
   "mimetype": "text/x-python",
   "name": "python",
   "nbconvert_exporter": "python",
   "pygments_lexer": "ipython3",
   "version": "3.7.6"
  }
 },
 "nbformat": 4,
 "nbformat_minor": 4
}
